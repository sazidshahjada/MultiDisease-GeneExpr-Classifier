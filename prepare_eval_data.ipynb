{
 "cells": [
  {
   "cell_type": "code",
   "execution_count": null,
   "id": "72a6dc3e",
   "metadata": {},
   "outputs": [],
   "source": [
    "import numpy as np\n",
    "import pandas as pd"
   ]
  },
  {
   "cell_type": "code",
   "execution_count": null,
   "id": "4ce436e9",
   "metadata": {},
   "outputs": [],
   "source": [
    "eval_metadata = pd.read_csv('evaluation_data/GSE159437_filtered_metadata.csv')\n",
    "eval_counts = pd.read_csv('evaluation_data/GSE159437_GeneLevel_Raw_data.csv')"
   ]
  },
  {
   "cell_type": "code",
   "execution_count": null,
   "id": "eae54204",
   "metadata": {},
   "outputs": [],
   "source": [
    "eval_counts.head()"
   ]
  },
  {
   "cell_type": "code",
   "execution_count": null,
   "id": "36da1ee8",
   "metadata": {},
   "outputs": [],
   "source": [
    "eval_metadata.head()"
   ]
  },
  {
   "cell_type": "code",
   "execution_count": null,
   "id": "c7f5852d",
   "metadata": {},
   "outputs": [],
   "source": [
    "eval_metadata['disease state'].value_counts()"
   ]
  },
  {
   "cell_type": "code",
   "execution_count": null,
   "id": "1f2c40c1",
   "metadata": {},
   "outputs": [],
   "source": [
    "selected_gene_df = pd.read_csv('results/pe_sle_hpt_hpth_multimode_selected_features.csv')\n",
    "selected_gene_df.head()"
   ]
  },
  {
   "cell_type": "code",
   "execution_count": null,
   "id": "1afb9378",
   "metadata": {},
   "outputs": [],
   "source": [
    "eval_counts = eval_counts.drop(columns=['Unnamed: 0'])\n",
    "eval_data = eval_counts.set_index('gene_symbol').T\n",
    "eval_data.index.name = \"GSM\"\n",
    "eval_data['label'] = eval_metadata['disease state'].values\n",
    "eval_data.columns = [col if isinstance(col, str) else col[0] for col in eval_data.columns]"
   ]
  },
  {
   "cell_type": "code",
   "execution_count": null,
   "id": "31a05758",
   "metadata": {},
   "outputs": [],
   "source": [
    "selected_genes = selected_gene_df['Feature']\n",
    "selected_genes = sorted(selected_genes)\n",
    "eval_data = eval_data[selected_genes + ['label']]\n",
    "eval_data.head()"
   ]
  },
  {
   "cell_type": "code",
   "execution_count": null,
   "id": "2e870038",
   "metadata": {},
   "outputs": [],
   "source": [
    "duplicates = eval_data.columns.duplicated()\n",
    "eval_data = eval_data.loc[:, ~duplicates]\n",
    "eval_data.to_csv(\"clean_data/eval_data.csv\", index=False)"
   ]
  },
  {
   "cell_type": "code",
   "execution_count": null,
   "id": "b9fd93ce",
   "metadata": {},
   "outputs": [],
   "source": [
    "X = eval_data.drop(\"label\", axis=1)\n",
    "y = eval_data[\"label\"]"
   ]
  },
  {
   "cell_type": "code",
   "execution_count": null,
   "id": "7b70c2d1",
   "metadata": {},
   "outputs": [],
   "source": [
    "from sklearn.preprocessing import StandardScaler\n",
    "\n",
    "scaler = StandardScaler()\n",
    "X = scaler.fit_transform(X)\n",
    "print(\"Scaled features shape:\", X.shape)\n",
    "\n",
    "y = y.replace({\"Normal\": 0, \"Severe Preeclampsia\": 1})"
   ]
  },
  {
   "cell_type": "code",
   "execution_count": null,
   "id": "2d1bee18",
   "metadata": {},
   "outputs": [],
   "source": [
    "import joblib\n",
    "\n",
    "model = joblib.load(\"models/best_Gradient Boosting.pkl\")"
   ]
  },
  {
   "cell_type": "code",
   "execution_count": null,
   "id": "d5092ce9",
   "metadata": {},
   "outputs": [],
   "source": [
    "from sklearn.metrics import accuracy_score, precision_score, recall_score, f1_score, roc_auc_score\n",
    "\n",
    "y_pred = model.predict(X)\n",
    "accuracy = accuracy_score(y, y_pred)\n",
    "precision = precision_score(y, y_pred, average=\"macro\", zero_division=0)\n",
    "recall = recall_score(y, y_pred, average=\"macro\", zero_division=0)\n",
    "f1 = f1_score(y, y_pred, average=\"macro\", zero_division=0)\n",
    "roc_auc = roc_auc_score(y, y_pred)\n",
    "\n",
    "print(\"Accuracy:\", accuracy)\n",
    "print(\"Precision:\", precision)\n",
    "print(\"Recall:\", recall)\n",
    "print(\"F1:\", f1)\n",
    "print(\"ROC AUC:\", roc_auc)"
   ]
  },
  {
   "cell_type": "code",
   "execution_count": null,
   "id": "f03d2a7e",
   "metadata": {},
   "outputs": [],
   "source": []
  }
 ],
 "metadata": {
  "kernelspec": {
   "display_name": "dsenv",
   "language": "python",
   "name": "python3"
  },
  "language_info": {
   "codemirror_mode": {
    "name": "ipython",
    "version": 3
   },
   "file_extension": ".py",
   "mimetype": "text/x-python",
   "name": "python",
   "nbconvert_exporter": "python",
   "pygments_lexer": "ipython3",
   "version": "3.12.3"
  }
 },
 "nbformat": 4,
 "nbformat_minor": 5
}
